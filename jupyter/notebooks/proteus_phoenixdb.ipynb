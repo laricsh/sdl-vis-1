{
 "cells": [
  {
   "cell_type": "markdown",
   "metadata": {},
   "source": [
    "# Connect to Proteus using _PhoenixDB_ Database Driver"
   ]
  },
  {
   "cell_type": "markdown",
   "metadata": {},
   "source": [
    "Import required packages:"
   ]
  },
  {
   "cell_type": "code",
   "execution_count": 1,
   "metadata": {},
   "outputs": [],
   "source": [
    "import os\n",
    "import phoenixdb\n",
    "from phoenixdb.cursor import DictCursor"
   ]
  },
  {
   "cell_type": "markdown",
   "metadata": {},
   "source": [
    "Check, if environment variables are set:"
   ]
  },
  {
   "cell_type": "code",
   "execution_count": 2,
   "metadata": {},
   "outputs": [
    {
     "name": "stdout",
     "output_type": "stream",
     "text": [
      "PROTEUS_URL:       http://diascld32.iccluster.epfl.ch:18014\n",
      "PROTEUS_USER:      sdltspin\n",
      "PROTEUS_PASSWORD:  ********************************\n"
     ]
    }
   ],
   "source": [
    "print(\"PROTEUS_URL:      \", os.environ['PROTEUS_URL'])\n",
    "print(\"PROTEUS_USER:     \", os.environ['PROTEUS_USER'])\n",
    "print(\"PROTEUS_PASSWORD: \", '*' * len(os.environ['PROTEUS_PASSWORD']))"
   ]
  },
  {
   "cell_type": "markdown",
   "metadata": {},
   "source": [
    "Establish connection to `Proteus` instance:"
   ]
  },
  {
   "cell_type": "code",
   "execution_count": 3,
   "metadata": {},
   "outputs": [],
   "source": [
    "conn = phoenixdb.connect(url=os.environ['PROTEUS_URL'],\n",
    "                         user=os.environ['PROTEUS_USER'],\n",
    "                         password=os.environ['PROTEUS_PASSWORD'],\n",
    "                         autocommit=False)"
   ]
  },
  {
   "cell_type": "markdown",
   "metadata": {},
   "source": [
    "Create cursor and execute example query:"
   ]
  },
  {
   "cell_type": "code",
   "execution_count": 4,
   "metadata": {},
   "outputs": [
    {
     "name": "stdout",
     "output_type": "stream",
     "text": [
      "{'row_count': 18118665}\n"
     ]
    }
   ],
   "source": [
    "cur = DictCursor(conn)\n",
    "\n",
    "cur.execute(\"SELECT count(*) as row_count FROM atoka_companies\")\n",
    "\n",
    "for row in cur:\n",
    "    print(row)"
   ]
  }
 ],
 "metadata": {
  "kernelspec": {
   "display_name": "Python 3",
   "language": "python",
   "name": "python3"
  },
  "language_info": {
   "codemirror_mode": {
    "name": "ipython",
    "version": 3
   },
   "file_extension": ".py",
   "mimetype": "text/x-python",
   "name": "python",
   "nbconvert_exporter": "python",
   "pygments_lexer": "ipython3",
   "version": "3.8.5"
  }
 },
 "nbformat": 4,
 "nbformat_minor": 4
}
