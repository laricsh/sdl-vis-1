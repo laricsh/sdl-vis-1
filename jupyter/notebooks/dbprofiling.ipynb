{
 "cells": [
  {
   "cell_type": "code",
   "execution_count": null,
   "metadata": {},
   "outputs": [],
   "source": [
    "#import pandas as pd\n",
    "#import psycopg2\n",
    "import sqlalchemy\n",
    "\n",
    "%run helpers.py"
   ]
  },
  {
   "cell_type": "code",
   "execution_count": null,
   "metadata": {},
   "outputs": [],
   "source": [
    "#connection details\n",
    "dbtoken = {\n",
    "    'address': 'localhost',\n",
    "    'port': '15432',\n",
    "    'user': 'postgres',\n",
    "    'pass': 'smartdatalake',\n",
    "    'dbname': 'sample_db'\n",
    "}\n",
    "postgres_str = f'postgresql://{dbtoken[\"user\"]}:{dbtoken[\"pass\"]}@{dbtoken[\"address\"]}:{dbtoken[\"port\"]}/{dbtoken[\"dbname\"]}'\n",
    "\n",
    "cnx = sqlalchemy.create_engine(postgres_str)"
   ]
  },
  {
   "cell_type": "code",
   "execution_count": null,
   "metadata": {},
   "outputs": [],
   "source": [
    "con = cnx.connect()"
   ]
  },
  {
   "cell_type": "code",
   "execution_count": null,
   "metadata": {},
   "outputs": [],
   "source": [
    "#get the tablenames\n",
    "names = con.execute('''SELECT tablename FROM pg_catalog.pg_tables WHERE schemaname='public';''')\n",
    "tbname = []\n",
    "for row in names:\n",
    "    tbname.append(row['tablename'])\n",
    "    \n"
   ]
  },
  {
   "cell_type": "code",
   "execution_count": null,
   "metadata": {},
   "outputs": [],
   "source": [
    "for table in tbname:\n",
    "    #table = 'rental'\n",
    "\n",
    "    #get column information\n",
    "    cols = con.execute(f'''SELECT column_name, data_type FROM INFORMATION_SCHEMA.COLUMNS WHERE TABLE_NAME = '{table}';''')\n",
    "\n",
    "    column = []\n",
    "    for column_n in cols:\n",
    "        column.append({'name': column_n[\"column_name\"], 'dtype': column_n[\"data_type\"]})    \n",
    "\n",
    "    \n",
    "    display(HTML(f\"<h1>{table}</h1>\"))\n",
    "\n",
    "    for col in column:\n",
    "        #col = 'return_date'\n",
    "\n",
    "        #create a row\n",
    "        rowentry(table, col, con)\n",
    "        \n",
    "    \n"
   ]
  },
  {
   "cell_type": "code",
   "execution_count": null,
   "metadata": {},
   "outputs": [],
   "source": []
  },
  {
   "cell_type": "code",
   "execution_count": null,
   "metadata": {},
   "outputs": [],
   "source": []
  }
 ],
 "metadata": {
  "kernelspec": {
   "display_name": "Python 3",
   "language": "python",
   "name": "python3"
  },
  "language_info": {
   "codemirror_mode": {
    "name": "ipython",
    "version": 3
   },
   "file_extension": ".py",
   "mimetype": "text/x-python",
   "name": "python",
   "nbconvert_exporter": "python",
   "pygments_lexer": "ipython3",
   "version": "3.6.9"
  }
 },
 "nbformat": 4,
 "nbformat_minor": 4
}
