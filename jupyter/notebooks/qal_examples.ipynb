{
 "cells": [
  {
   "cell_type": "markdown",
   "metadata": {},
   "source": [
    "## Import libraries"
   ]
  },
  {
   "cell_type": "code",
   "execution_count": null,
   "metadata": {},
   "outputs": [],
   "source": [
    "import json\n",
    "import requests"
   ]
  },
  {
   "cell_type": "markdown",
   "metadata": {},
   "source": [
    "## Set access point"
   ]
  },
  {
   "cell_type": "code",
   "execution_count": null,
   "metadata": {},
   "outputs": [],
   "source": [
    "url = 'http://10.90.46.32:4545/QAL'"
   ]
  },
  {
   "cell_type": "markdown",
   "metadata": {},
   "source": [
    "## Below is a query for data profiling a view from SpazioDati Company dataset"
   ]
  },
  {
   "cell_type": "code",
   "execution_count": 13,
   "metadata": {},
   "outputs": [
    {
     "name": "stdout",
     "output_type": "stream",
     "text": [
      "[{\"name\":\"acheneID\",\"type\":\"String\",\"countNonNull\":8484960,\"countDistinct\":0,\"min\":0.0,\"max\":0.0,\"avg\":0.0,\"sum\":0.0,\"avgDistinct\":0,\"sumDistinct\":0.0},\n",
      "{\"name\":\"lat\",\"type\":\"Double\",\"countNonNull\":7114000,\"countDistinct\":0,\"min\":0.0,\"max\":46.9925234,\"avg\":43.0920739432775,\"sum\":3.0655701403247607E8,\"avgDistinct\":30655701,\"sumDistinct\":3.0655701403247607E8},\n",
      "{\"name\":\"lon\",\"type\":\"Double\",\"countNonNull\":7114000,\"countDistinct\":0,\"min\":0.0,\"max\":18.49359505,\"avg\":11.930551094257291,\"sum\":8.487394048454636E7,\"avgDistinct\":8487394,\"sumDistinct\":8.487394048454636E7},\n",
      "{\"name\":\"province\",\"type\":\"String\",\"countNonNull\":7412010,\"countDistinct\":0,\"min\":0.0,\"max\":0.0,\"avg\":0.0,\"sum\":0.0,\"avgDistinct\":0,\"sumDistinct\":0.0},\n",
      "{\"name\":\"isActive\",\"type\":\"Boolean\",\"countNonNull\":7300160,\"countDistinct\":0,\"min\":0.0,\"max\":0.0,\"avg\":0.0,\"sum\":0.0,\"avgDistinct\":0,\"sumDistinct\":0.0},\n",
      "{\"name\":\"activityStatus\",\"type\":\"String\",\"countNonNull\":7243260,\"countDistinct\":0,\"min\":0.0,\"max\":0.0,\"avg\":0.0,\"sum\":0.0,\"avgDistinct\":0,\"sumDistinct\":0.0},\n",
      "{\"name\":\"dateOfActivityStart\",\"type\":\"TimeStamp\",\"countNonNull\":6586660,\"countDistinct\":0,\"min\":0.0,\"max\":0.0,\"avg\":0.0,\"sum\":0.0,\"avgDistinct\":0,\"sumDistinct\":0.0},\n",
      "{\"name\":\"numberOfEmployees\",\"type\":\"Integer\",\"countNonNull\":3939480,\"countDistinct\":0,\"min\":0.0,\"max\":2100.0,\"avg\":3.130301461106542,\"sum\":1.233176E7,\"avgDistinct\":1233176,\"sumDistinct\":1.233176E7},\n",
      "{\"name\":\"revenue\",\"type\":\"Long\",\"countNonNull\":522550,\"countDistinct\":0,\"min\":0.0,\"max\":7.38609E8,\"avg\":1739395.2731796,\"sum\":9.08921E11,\"avgDistinct\":2147483647,\"sumDistinct\":9.08921E11},\n",
      "{\"name\":\"EBITDA\",\"type\":\"Double\",\"countNonNull\":443150,\"countDistinct\":0,\"min\":-2.118E7,\"max\":1.46337E8,\"avg\":167050.66004738802,\"sum\":7.40285E10,\"avgDistinct\":2147483647,\"sumDistinct\":7.40285E10},\n",
      "{\"name\":\"balanceSheetClosingDate\",\"type\":\"TimeStamp\",\"countNonNull\":523350,\"countDistinct\":0,\"min\":0.0,\"max\":0.0,\"avg\":0.0,\"sum\":0.0,\"avgDistinct\":0,\"sumDistinct\":0.0},\n",
      "{\"name\":\"flags\",\"type\":\"String\",\"countNonNull\":4830250,\"countDistinct\":0,\"min\":0.0,\"max\":0.0,\"avg\":0.0,\"sum\":0.0,\"avgDistinct\":0,\"sumDistinct\":0.0},\n",
      "{\"name\":\"ATECO\",\"type\":\"String\",\"countNonNull\":6486870,\"countDistinct\":0,\"min\":0.0,\"max\":0.0,\"avg\":0.0,\"sum\":0.0,\"avgDistinct\":0,\"sumDistinct\":0.0},\n",
      "{\"name\":\"keywords\",\"type\":\"String\",\"countNonNull\":117700,\"countDistinct\":0,\"min\":0.0,\"max\":0.0,\"avg\":0.0,\"sum\":0.0,\"avgDistinct\":0,\"sumDistinct\":0.0},\n",
      "{\"name\":\"taxID\",\"type\":\"String\",\"countNonNull\":7891210,\"countDistinct\":0,\"min\":0.0,\"max\":0.0,\"avg\":0.0,\"sum\":0.0,\"avgDistinct\":0,\"sumDistinct\":0.0},\n",
      "{\"name\":\"vatID\",\"type\":\"String\",\"countNonNull\":6139560,\"countDistinct\":0,\"min\":0.0,\"max\":0.0,\"avg\":0.0,\"sum\":0.0,\"avgDistinct\":0,\"sumDistinct\":0.0},\n",
      "{\"name\":\"numberOfBuildings\",\"type\":\"Integer\",\"countNonNull\":303160,\"countDistinct\":0,\"min\":0.0,\"max\":769.0,\"avg\":7.270220345692044,\"sum\":2204040.0,\"avgDistinct\":220404,\"sumDistinct\":2204040.0},\n",
      "{\"name\":\"numberOfPlotsOfLand\",\"type\":\"Integer\",\"countNonNull\":303160,\"countDistinct\":0,\"min\":0.0,\"max\":1273.0,\"avg\":6.9192835466420375,\"sum\":2097650.0,\"avgDistinct\":209765,\"sumDistinct\":2097650.0},\n",
      "{\"name\":\"numberOfRealEstates\",\"type\":\"Integer\",\"countNonNull\":303160,\"countDistinct\":0,\"min\":0.0,\"max\":1424.0,\"avg\":14.18950389233408,\"sum\":4301690.0,\"avgDistinct\":430169,\"sumDistinct\":4301690.0},\n",
      "{\"name\":\"categoryScore\",\"type\":\"Integer\",\"countNonNull\":273000,\"countDistinct\":0,\"min\":0.0,\"max\":100.0,\"avg\":49.447985347985345,\"sum\":1.34993E7,\"avgDistinct\":1349930,\"sumDistinct\":1.34993E7},\n",
      "{\"name\":\"score\",\"type\":\"Integer\",\"countNonNull\":273000,\"countDistinct\":0,\"min\":0.0,\"max\":100.0,\"avg\":50.25018315018315,\"sum\":1.37183E7,\"avgDistinct\":1371830,\"sumDistinct\":1.37183E7},\n",
      "{\"name\":\"updateTime\",\"type\":\"TimeStamp\",\"countNonNull\":273000,\"countDistinct\":0,\"min\":0.0,\"max\":0.0,\"avg\":0.0,\"sum\":0.0,\"avgDistinct\":0,\"sumDistinct\":0.0}]\n"
     ]
    }
   ],
   "source": [
    "data = {'query':\"dataProfile SCV confidence 90 error 10\"}\n",
    "response = requests.get(url, params=data)\n",
    "print(response.text)"
   ]
  },
  {
   "cell_type": "markdown",
   "metadata": {},
   "source": [
    "## Below is a query for quantile of revenue from SpazioDati Company dataset"
   ]
  },
  {
   "cell_type": "code",
   "execution_count": 14,
   "metadata": {},
   "outputs": [
    {
     "name": "stdout",
     "output_type": "stream",
     "text": [
      "[{\"percent\":10.0,\"value\":1},\n",
      "{\"percent\":20.0,\"value\":1},\n",
      "{\"percent\":30.0,\"value\":16383},\n",
      "{\"percent\":40.0,\"value\":65535},\n",
      "{\"percent\":50.0,\"value\":131071},\n",
      "{\"percent\":60.0,\"value\":258048},\n",
      "{\"percent\":70.0,\"value\":524287},\n",
      "{\"percent\":80.0,\"value\":1048575},\n",
      "{\"percent\":90.0,\"value\":2097151}]\n"
     ]
    }
   ],
   "source": [
    "queryParam = {'query':\"select quantile(revenue,10) from SCV confidence 90 error 10\"}\n",
    "response = requests.get(url, params=queryParam)\n",
    "print(response.text)"
   ]
  },
  {
   "cell_type": "markdown",
   "metadata": {},
   "source": [
    "## Below is a query for quantile of numberOfEmployees from SpazioDati Company dataset"
   ]
  },
  {
   "cell_type": "code",
   "execution_count": null,
   "metadata": {},
   "outputs": [],
   "source": [
    "data = {'query':\"select quantile(numberOfEmployees,5) from SCV confidence 95 error 5\"}\n",
    "response = requests.get(url, params=data)\n",
    "print(response.text)"
   ]
  },
  {
   "cell_type": "markdown",
   "metadata": {},
   "source": [
    "## Below is a query for binning of revenue from SpazioDati Company dataset"
   ]
  },
  {
   "cell_type": "code",
   "execution_count": 12,
   "metadata": {},
   "outputs": [
    {
     "name": "stdout",
     "output_type": "stream",
     "text": [
      "[{'start':0.0,'end':10000.0,'count':147503},\n",
      "{'start':10000.0,'end':20000.0,'count':30152},\n",
      "{'start':20000.0,'end':30000.0,'count':29161},\n",
      "{'start':30000.0,'end':40000.0,'count':0},\n",
      "{'start':40000.0,'end':50000.0,'count':29549},\n",
      "{'start':50000.0,'end':60000.0,'count':0},\n",
      "{'start':60000.0,'end':70000.0,'count':0},\n",
      "{'start':70000.0,'end':80000.0,'count':0},\n",
      "{'start':80000.0,'end':90000.0,'count':30890},\n",
      "{'start':90000.0,'end':100000.0,'count':0}]\n"
     ]
    }
   ],
   "source": [
    "data = {'query':\"select binning(revenue,0,100000,10) from SCV confidence 90 error 10\"}\n",
    "response = requests.get(url, params=data)\n",
    "print(response.text)"
   ]
  },
  {
   "cell_type": "markdown",
   "metadata": {},
   "source": [
    "## Below is a query for quantile of categoryScore from SpazioDati Company dataset"
   ]
  },
  {
   "cell_type": "code",
   "execution_count": 11,
   "metadata": {},
   "outputs": [
    {
     "name": "stdout",
     "output_type": "stream",
     "text": [
      "[{'percent':20.0,'value':31},{'percent':40.0,'value':63},{'percent':60.0,'value':63},{'percent':80.0,'value':127]\n"
     ]
    }
   ],
   "source": [
    "data = {'query':\"select quantile(categoryScore,5) from SCV confidence 95 error 5\"}\n",
    "response = requests.get(url, params=data)\n",
    "print(response.text)"
   ]
  },
  {
   "cell_type": "markdown",
   "metadata": {},
   "source": [
    "## Below is a query for quantile of categoryScore from SpazioDati Company dataset"
   ]
  },
  {
   "cell_type": "code",
   "execution_count": null,
   "metadata": {},
   "outputs": [],
   "source": [
    "data = {'query':\"select quantile(categoryScore,10) from SCV confidence 90 error 10\"}\n",
    "response = requests.get(url, params=data)\n",
    "print(response.text)"
   ]
  },
  {
   "cell_type": "markdown",
   "metadata": {},
   "source": [
    "## Below is a query for data profiling a view from Public Funding dataset"
   ]
  },
  {
   "cell_type": "code",
   "execution_count": null,
   "metadata": {},
   "outputs": [],
   "source": [
    "data = {'query':\"dataProfile PFV confidence 90 error 10\"}\n",
    "response = requests.get(url, params=data)\n",
    "print(response.text)"
   ]
  },
  {
   "cell_type": "markdown",
   "metadata": {},
   "source": [
    "## Below is a query for quantile of totalBeneficiaries from Public Funding dataset"
   ]
  },
  {
   "cell_type": "code",
   "execution_count": null,
   "metadata": {},
   "outputs": [],
   "source": [
    "data = {'query':\"select quantile(totalBeneficiaries,10) from PFV confidence 90 error 10\"}\n",
    "response = requests.get(url, params=data)\n",
    "print(response.text)"
   ]
  },
  {
   "cell_type": "code",
   "execution_count": null,
   "metadata": {},
   "outputs": [],
   "source": []
  }
 ],
 "metadata": {
  "kernelspec": {
   "display_name": "Python 3",
   "language": "python",
   "name": "python3"
  },
  "language_info": {
   "codemirror_mode": {
    "name": "ipython",
    "version": 3
   },
   "file_extension": ".py",
   "mimetype": "text/x-python",
   "name": "python",
   "nbconvert_exporter": "python",
   "pygments_lexer": "ipython3",
   "version": "3.8.5"
  }
 },
 "nbformat": 4,
 "nbformat_minor": 4
}
